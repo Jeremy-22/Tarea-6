{
  "nbformat": 4,
  "nbformat_minor": 0,
  "metadata": {
    "colab": {
      "provenance": [],
      "authorship_tag": "ABX9TyN5S7bSOOkP9mm1w8RmTHUc",
      "include_colab_link": true
    },
    "kernelspec": {
      "name": "python3",
      "display_name": "Python 3"
    },
    "language_info": {
      "name": "python"
    }
  },
  "cells": [
    {
      "cell_type": "markdown",
      "metadata": {
        "id": "view-in-github",
        "colab_type": "text"
      },
      "source": [
        "<a href=\"https://colab.research.google.com/github/Jeremy-22/Tarea-6/blob/main/RGBaBN.ipynb\" target=\"_parent\"><img src=\"https://colab.research.google.com/assets/colab-badge.svg\" alt=\"Open In Colab\"/></a>"
      ]
    },
    {
      "cell_type": "code",
      "execution_count": null,
      "metadata": {
        "id": "q9v89KSsZNzP"
      },
      "outputs": [],
      "source": [
        "%pip install tensorflow"
      ]
    },
    {
      "cell_type": "code",
      "source": [
        "import numpy as np\n",
        "import tensorflow as tf\n",
        "from tensorflow import keras\n",
        "from tensorflow.keras import layers\n",
        "from tensorflow.keras.datasets import mnist"
      ],
      "metadata": {
        "id": "fRRk1H-5Ziih"
      },
      "execution_count": 131,
      "outputs": []
    },
    {
      "cell_type": "markdown",
      "source": [
        "## Creamos la capa en keras que transforme imágenes a color en escala de grises."
      ],
      "metadata": {
        "id": "Y1wrLbzA7a6y"
      }
    },
    {
      "cell_type": "code",
      "source": [
        "class GrayScaleLayer (layers.Layer):\n",
        "    def call(self, inputs):\n",
        "        grayscale_img = tf.image.grayscale_to_rgb(inputs)\n",
        "        return grayscale_img\n",
        "grayscal = GrayScaleLayer()"
      ],
      "metadata": {
        "id": "L15l9vLZqQs-"
      },
      "execution_count": 132,
      "outputs": []
    },
    {
      "cell_type": "markdown",
      "source": [
        "## Probando la capa"
      ],
      "metadata": {
        "id": "McA3yA2Jwezc"
      }
    },
    {
      "cell_type": "code",
      "source": [
        "#cargamos la bse de datos mnist\n",
        "(train_images, train_labels), (test_image, test_labes) = mnist.load_data()\n",
        "#Elegimos un imagen a convertir\n",
        "image_to_convert = train_images[68]\n",
        "#\n",
        "image_to_convert = tf.convert_to_tensor(image_to_convert)\n",
        "#Convertimos la imagen a escala de grises\n",
        "#tf.expand_dims se está utilizando para expandir una dimensión para convertirla en un lote de imagenes\n",
        "gray_image = grayscal(tf.expand_dims(image_to_convert, axis=-1))"
      ],
      "metadata": {
        "id": "oISgj6wyweii"
      },
      "execution_count": 133,
      "outputs": []
    },
    {
      "cell_type": "code",
      "source": [
        "import matplotlib.pyplot as plt\n",
        "#visualizamos la imagen original\n",
        "plt.subplot(1, 2, 1)\n",
        "plt.imshow(image_to_convert)\n",
        "plt.title('Imagen original')\n",
        "#la imagen a escala de grises\n",
        "plt.subplot(1, 2, 2)\n",
        "#squeeze es una operación que elimina dimensiones de tamaño 1, (1, 28, 28, 1), para poder tener las dimensiones en forma (28, 28)\n",
        "plt.imshow(tf.squeeze(gray_image))\n",
        "plt.title('Imagen en escala de grises')\n",
        "plt.show()"
      ],
      "metadata": {
        "colab": {
          "base_uri": "https://localhost:8080/",
          "height": 308
        },
        "id": "agFhP8zby5eC",
        "outputId": "adabde6f-546d-4455-e51f-e6b2c67b1d1f"
      },
      "execution_count": 134,
      "outputs": [
        {
          "output_type": "display_data",
          "data": {
            "text/plain": [
              "<Figure size 640x480 with 2 Axes>"
            ],
            "image/png": "[encoded data removed]"
          },
          "metadata": {}
        }
      ]
    }
  ]
}